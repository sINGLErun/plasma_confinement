{
 "cells": [
  {
   "cell_type": "code",
   "execution_count": 1,
   "metadata": {},
   "outputs": [],
   "source": [
    "def return_parameters(parameters_file : str):\n",
    "    with open(parameters_file, 'r') as f:\n",
    "        TIME_dt_DTS = f.readline().split(' ')\n",
    "        TIME = (int)(TIME_dt_DTS[0])\n",
    "        dt = (float)(TIME_dt_DTS[1])\n",
    "        DTS = (int)(TIME_dt_DTS[2])\n",
    "        \n",
    "    return TIME, dt, DTS"
   ]
  },
  {
   "cell_type": "code",
   "execution_count": 2,
   "metadata": {},
   "outputs": [],
   "source": [
    "def set_data(file_to_read : str, field : list):\n",
    "    \n",
    "    field.clear()\n",
    "    \n",
    "    with open(file_to_read, 'r') as f:\n",
    "        next(f)\n",
    "        for t in range(int(TIME/DTS)):\n",
    "            field.append((float)(f.readline()))"
   ]
  },
  {
   "cell_type": "code",
   "execution_count": 4,
   "metadata": {},
   "outputs": [],
   "source": [
    "def set_a_whole_plot(field : dict):\n",
    "    \n",
    "    for name in field.keys():\n",
    "        \n",
    "        f = field[ name ]\n",
    "        \n",
    "        if ( '_s' not in name ):\n",
    "            set_data( f['file_to_read'], f['data'] )\n",
    "        else:\n",
    "            f_s = field[name[:-2]]\n",
    "            f['data'] = (f_s['data'])[ int((f['t_range'])[0]/DTS) : int((f['t_range'])[-1]/DTS+1) ]\n"
   ]
  },
  {
   "cell_type": "code",
   "execution_count": 5,
   "metadata": {},
   "outputs": [],
   "source": [
    "def draw_a_whole_plot(fig, axes, field : dict):\n",
    "    \n",
    "    for name in field.keys():\n",
    "        \n",
    "        f = field[ name ]\n",
    "        \n",
    "        axes[ f['axes_position'] ].set_title( f['axes_name'] )\n",
    "        if ( '_s' not in name ):\n",
    "            axes[ f['axes_position'] ].plot( f['t_range'], f['data'], color=f['color'] )\n",
    "        else:\n",
    "            f_s = field[name[:-2]]\n",
    "            axes[ f_s['axes_position'] ].plot( f['t_range'], f['data'], color=f['color'] )\n",
    "            axes[ f['axes_position'] ].plot( f['t_range'], f['data'], color=f['color'] )\n",
    "\n"
   ]
  },
  {
   "cell_type": "code",
   "execution_count": 7,
   "metadata": {},
   "outputs": [
    {
     "data": {
      "image/png": "[encoded data removed]",
      "text/plain": [
       "<Figure size 720x864 with 2 Axes>"
      ]
     },
     "metadata": {
      "needs_background": "light"
     },
     "output_type": "display_data"
    }
   ],
   "source": [
    "import matplotlib.pyplot as plt\n",
    "import numpy as np\n",
    "\n",
    "TIME, dt, DTS = return_parameters('Bx.txt')\n",
    "\n",
    "TINJ = 25000\n",
    "TINJ_ = int(25000/DTS)\n",
    "\n",
    "field = {\n",
    "    'Bx'   : { 't_range': list(range(0, TIME, DTS)),\n",
    "               'data': [],\n",
    "               'file_to_read' : 'Bx.txt',\n",
    "               'axes_position' : 0,\n",
    "               'axes_name': '$B_x\\ (\\ \\hatx\\ =\\ Lx/2,\\ \\haty\\ =\\ Ly/2,\\ t\\ )$', \n",
    "               'color': 'blue',\n",
    "             },\n",
    "    #'Bx_s' : { 't_range': list(range(TINJ, TIME, DTS)),\n",
    "    #           'data': [],\n",
    "    #           'axes_position' : 1,\n",
    "    #           'axes_name': '$B_x\\ (\\ \\hatx\\ =\\ Lx/2,\\ \\haty\\ =\\ Ly/2,\\ t[\\ ' + str(TINJ) + ':\\ ]\\ )$', \n",
    "    #           'color': 'red',\n",
    "    #         },\n",
    "}\n",
    "\n",
    "ncols = 1\n",
    "nrows = 2 #len( field.keys() )\n",
    "        \n",
    "fig, axes = plt.subplots(nrows=nrows, ncols=ncols, figsize=(10,12))\n",
    "\n",
    "set_a_whole_plot(field)\n",
    "draw_a_whole_plot(fig, axes, field)\n",
    "\n",
    "fig.savefig( \"../\" + str(list(field.keys())[0]) + \"(0.5'Ly, 0.5'Ly, t).png\")\n"
   ]
  }
 ],
 "metadata": {
  "kernelspec": {
   "display_name": "Python 3",
   "language": "python",
   "name": "python3"
  },
  "language_info": {
   "codemirror_mode": {
    "name": "ipython",
    "version": 3
   },
   "file_extension": ".py",
   "mimetype": "text/x-python",
   "name": "python",
   "nbconvert_exporter": "python",
   "pygments_lexer": "ipython3",
   "version": "3.7.4"
  }
 },
 "nbformat": 4,
 "nbformat_minor": 2
}

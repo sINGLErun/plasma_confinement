{
 "cells": [
  {
   "cell_type": "markdown",
   "metadata": {},
   "source": [
    "#### Animation of fields\n",
    "\n",
    "I've added an appropriate colorbar, you can read the explanation at this link: https://joseph-long.com/writing/colorbars/, I also added saving option. Now, if you want to save it as a .gif file just delete '#' symol in corresponding line."
   ]
  },
  {
   "cell_type": "code",
   "execution_count": 175,
   "metadata": {},
   "outputs": [],
   "source": [
    "def return_parameters(parameters_file: str):\n",
    "    with open(parameters_file, 'r') as f:\n",
    "        TIME_dt_DTS = f.readline().split(' ')\n",
    "        TIME = (int)(TIME_dt_DTS[0])\n",
    "        dt = (float)(TIME_dt_DTS[1])\n",
    "        DTS = (int)(TIME_dt_DTS[2])\n",
    "        SIZE = f.readline().split(' ')\n",
    "        SIZE_X = (int)(SIZE[0])\n",
    "        SIZE_Y = (int)(SIZE[1])\n",
    "        return TIME, dt, DTS, SIZE_X, SIZE_Y"
   ]
  },
  {
   "cell_type": "code",
   "execution_count": 176,
   "metadata": {
    "scrolled": true
   },
   "outputs": [],
   "source": [
    "#TODO: itertools.islice(...)\n",
    "\n",
    "def return_field_frame(t : int, field_to_read: str):\n",
    "    with open(field_to_read, 'r') as f:\n",
    "        next(f)\n",
    "        next(f)\n",
    "        for n in range(t):\n",
    "            next(f) \n",
    "            continue\n",
    "        \n",
    "        Field = []\n",
    "        temp = f.readline() \n",
    "        temp = temp.split('\\t')[:-1]\n",
    "        for X in range(len(temp)) :\n",
    "            Field.append(list(map(float, temp[X].split(' ')[:-1])))\n",
    "        return Field    "
   ]
  },
  {
   "cell_type": "code",
   "execution_count": 177,
   "metadata": {},
   "outputs": [],
   "source": [
    "import matplotlib.pyplot as plt\n",
    "\n",
    "\n",
    "def set_imshow(subplot, Field: list, cmap_: str, SIZE_X : int, SIZE_Y : int):\n",
    "    return subplot.imshow(\n",
    "        Field,\n",
    "        cmap = plt.get_cmap(cmap_),\n",
    "        interpolation=\"gaussian\",\n",
    "        animated=True,\n",
    "        origin='lower',\n",
    "        extent=(0,SIZE_X,0,SIZE_Y),\n",
    "        #vmin=-0.1, vmax=0.1,\n",
    "    )"
   ]
  },
  {
   "cell_type": "code",
   "execution_count": 178,
   "metadata": {},
   "outputs": [],
   "source": [
    "import matplotlib.pyplot as plt\n",
    "from mpl_toolkits.axes_grid1 import make_axes_locatable\n",
    "import numpy as np\n",
    "\n",
    "def set_colorbar(mappable):\n",
    "    last_axes = plt.gca()\n",
    "    ax = mappable.axes\n",
    "    fig = ax.figure\n",
    "    divider = make_axes_locatable(ax)\n",
    "    cax = divider.append_axes(\"right\", size=\"3%\", pad=0.05)\n",
    "    cbar = fig.colorbar(mappable,\n",
    "                       orientation=\"vertical\",\n",
    "                       cax=cax)\n",
    "    plt.sca(last_axes)\n",
    "    return cbar"
   ]
  },
  {
   "cell_type": "code",
   "execution_count": 192,
   "metadata": {},
   "outputs": [],
   "source": [
    "import matplotlib.pyplot as plt\n",
    "%matplotlib inline\n",
    "\n",
    "\n",
    "def set_whole_frame(axes, cbars, nrows, ncols, F : list, field_titles, imshows, SIZE_X, SIZE_Y):\n",
    "    for i in range(nrows):\n",
    "        for j in range(ncols):\n",
    "            if (i == 0):\n",
    "                axes[i,j].set_title(field_titles[i*ncols+j], fontsize=20)\n",
    "                imshows.append(set_imshow(axes[i,j], F[i*ncols+j], \"bwr\", SIZE_X, SIZE_Y))\n",
    "                cbars.append(set_colorbar(imshows[i*ncols+j]))\n",
    "            \n",
    "            elif(i == 1 and (j == 0 or j == 1)):\n",
    "                axes[i,j].axis('off')\n",
    "            \n",
    "            else:\n",
    "                axes[i,j].set_title(field_titles[i*ncols+j-2], fontsize=20)\n",
    "                imshows.append(set_imshow(axes[i,j], F[i*ncols+j-2], \"bwr\", SIZE_X, SIZE_Y))\n",
    "                cbars.append(set_colorbar(imshows[i*ncols+j-2]))\n",
    "\n",
    "def clear_whole_frame(axes, cbars, nrows, ncols):\n",
    "    for i in range(nrows):\n",
    "        for j in range(ncols):\n",
    "            axes[i,j].cla()\n",
    "            if (i == 0):\n",
    "                cbars[i*ncols+j].remove()\n",
    "            elif (i == 1 and j > 1):\n",
    "                cbars[i*ncols+j-2].remove()"
   ]
  },
  {
   "cell_type": "code",
   "execution_count": 199,
   "metadata": {
    "scrolled": false
   },
   "outputs": [
    {
     "data": {
      "image/png": "[encoded data removed]",
      "text/plain": [
       "<Figure size 2160x864 with 10 Axes>"
      ]
     },
     "metadata": {
      "needs_background": "light"
     },
     "output_type": "display_data"
    }
   ],
   "source": [
    "#TODO: python parallel for (☞ﾟヮﾟ)☞\n",
    "\n",
    "parameters_file = \"jx.txt\"\n",
    "TIME, dt, DTS, SIZE_X, SIZE_Y = return_parameters(parameters_file)\n",
    "\n",
    "field_files = [\"jx.txt\", \"jy.txt\",\n",
    "               \"Ex.txt\", \"Ey.txt\", \"Ez.txt\",\n",
    "               \"Bx.txt\", \"By.txt\", \"Bz.txt\" ]  \n",
    "\n",
    "field_titles = [ \"$j_x$\", \"$j_y$\",\n",
    "                 \"$E_x$\", \"$E_y$\", \"$E_z$\",\n",
    "                 \"$B_x$\", \"$B_y$\", \"$B_z$\" ] \n",
    "nrows = 2\n",
    "ncols = 5\n",
    "\n",
    "fig, axes = plt.subplots(nrows=nrows, ncols=ncols, figsize=(35,12))\n",
    "\n",
    "for t in range(0, int(TIME/DTS)-1):\n",
    "\n",
    "    F = []\n",
    "    for file in field_files:\n",
    "        F.append(return_field_frame(t, file))\n",
    "\n",
    "    imshows = []\n",
    "    cbars = []\n",
    "    set_whole_frame(axes, cbars, nrows, ncols, F, field_titles, imshows, SIZE_X, SIZE_X)\n",
    "\n",
    "    axes[1,1].text(0.31, 0.9, \"%.2f $t\\ {\\cdot}\\ w_p$\" %(DTS*t*dt), transform=axes[1,1].transAxes, fontsize=20)\n",
    "\n",
    "    fig.savefig(\"animation/%d.png\" %t)\n",
    "    \n",
    "    clear_whole_frame(axes, cbars, nrows, ncols)"
   ]
  },
  {
   "cell_type": "code",
   "execution_count": null,
   "metadata": {},
   "outputs": [],
   "source": []
  }
 ],
 "metadata": {
  "kernelspec": {
   "display_name": "Python 3",
   "language": "python",
   "name": "python3"
  },
  "language_info": {
   "codemirror_mode": {
    "name": "ipython",
    "version": 3
   },
   "file_extension": ".py",
   "mimetype": "text/x-python",
   "name": "python",
   "nbconvert_exporter": "python",
   "pygments_lexer": "ipython3",
   "version": "3.7.4"
  }
 },
 "nbformat": 4,
 "nbformat_minor": 2
}
